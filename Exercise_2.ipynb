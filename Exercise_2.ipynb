{
 "cells": [
  {
   "cell_type": "code",
   "execution_count": 23,
   "id": "a2050465",
   "metadata": {},
   "outputs": [],
   "source": [
    "def bigger_is_greater(w):\n",
    "    # Convert the word to a list of characters\n",
    "    w_list = list(w)\n",
    "\n",
    "    # Start from the right end of the list and find the first character that is smaller than the one on its right\n",
    "    i = len(w_list) - 2\n",
    "    while i >= 0 and w_list[i] >= w_list[i+1]:\n",
    "        i -= 1\n",
    "\n",
    "    # If no such character is found, it is not possible to rearrange the word\n",
    "    if i < 0:\n",
    "        return \"no answer\"\n",
    "\n",
    "    # Find the smallest character to the right of the character found in the previous step that is larger than it\n",
    "    j = len(w_list) - 1\n",
    "    while w_list[j] <= w_list[i]:\n",
    "        j -= 1\n",
    "\n",
    "    # Swap the two characters found in the previous steps\n",
    "    w_list[i], w_list[j] = w_list[j], w_list[i]\n",
    "\n",
    "    # Reverse the substring to the right of the character found in the first step\n",
    "    w_list[i+1:] = reversed(w_list[i+1:])\n",
    "\n",
    "    # Convert the list of characters back to a string and return it\n",
    "    return \"\".join(w_list)"
   ]
  },
  {
   "cell_type": "code",
   "execution_count": 24,
   "id": "3da84937",
   "metadata": {},
   "outputs": [
    {
     "name": "stdout",
     "output_type": "stream",
     "text": [
      "abdc\n"
     ]
    }
   ],
   "source": [
    "w = 'abcd'\n",
    "print(bigger_is_greater(w))  # abdc"
   ]
  },
  {
   "cell_type": "code",
   "execution_count": 25,
   "id": "91437f92",
   "metadata": {},
   "outputs": [
    {
     "name": "stdout",
     "output_type": "stream",
     "text": [
      "lmon\n",
      "no answer\n",
      "no answer\n",
      "acbd\n",
      "abdc\n",
      "fedcbabdc\n"
     ]
    }
   ],
   "source": [
    "w = ['lmno', 'dcba', 'dcbb', 'abdc', 'abcd', 'fedcbabcd']\n",
    "\n",
    "for i in w:\n",
    "    print(bigger_is_greater(i))  # no answer"
   ]
  },
  {
   "cell_type": "code",
   "execution_count": null,
   "id": "c72652b2",
   "metadata": {},
   "outputs": [],
   "source": []
  }
 ],
 "metadata": {
  "kernelspec": {
   "display_name": "Python 3 (ipykernel)",
   "language": "python",
   "name": "python3"
  },
  "language_info": {
   "codemirror_mode": {
    "name": "ipython",
    "version": 3
   },
   "file_extension": ".py",
   "mimetype": "text/x-python",
   "name": "python",
   "nbconvert_exporter": "python",
   "pygments_lexer": "ipython3",
   "version": "3.9.12"
  }
 },
 "nbformat": 4,
 "nbformat_minor": 5
}
